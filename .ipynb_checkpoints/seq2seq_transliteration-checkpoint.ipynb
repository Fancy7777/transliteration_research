{
 "cells": [
  {
   "cell_type": "code",
   "execution_count": 6,
   "metadata": {
    "collapsed": true
   },
   "outputs": [],
   "source": [
    "#import dependencies\n",
    "import tensorflow as tf\n",
    "import numpy as np"
   ]
  },
  {
   "cell_type": "code",
   "execution_count": 7,
   "metadata": {
    "collapsed": true
   },
   "outputs": [],
   "source": [
    "#get in the data\n",
    "chinese = []\n",
    "english_phoeneme = []\n",
    "with open('dataset.txt') as f:\n",
    "    for line in f:\n",
    "        temp = line.split('\\t')\n",
    "        chinese.append(temp[1])\n",
    "        english_phoeneme.append(temp[2])\n",
    "english_phoeneme = [phoeneme.split('\\n')[0].split() for phoeneme in english_phoeneme]\n",
    "chinese = [list(word) for word in chinese]"
   ]
  },
  {
   "cell_type": "code",
   "execution_count": 8,
   "metadata": {},
   "outputs": [
    {
     "name": "stdout",
     "output_type": "stream",
     "text": [
      "The dimension of the chinese character is: 1532\n",
      "The dimensino of the English phoenme is: 39\n"
     ]
    }
   ],
   "source": [
    "from collections import Counter\n",
    "combined_chinese_list = []\n",
    "for word in chinese:\n",
    "    combined_chinese_list+=word\n",
    "count_chinese = Counter(combined_chinese_list)\n",
    "#count_chinese is the output  dimensions\n",
    "print('The dimension of the chinese character is: '+str(len(count_chinese)))\n",
    "\n",
    "#english phoeneme dimention\n",
    "combined_phoeneme = []\n",
    "for phoeneme in english_phoeneme:\n",
    "    combined_phoeneme+=phoeneme\n",
    "count_english_phoenem = Counter(combined_phoeneme)\n",
    "#count_english_phoenem is the input dimensions\n",
    "print('The dimensino of the English phoenme is: '+ str(len(count_english_phoenem)))"
   ]
  },
  {
   "cell_type": "code",
   "execution_count": 35,
   "metadata": {},
   "outputs": [
    {
     "name": "stdout",
     "output_type": "stream",
     "text": [
      "The longest sequence in english phoneme 75\n",
      "The longest chinese sequence 41\n"
     ]
    }
   ],
   "source": [
    "#make it fixed lenght problem\n",
    "print('The longest sequence in english phoneme '+ str(len(max(english_phoeneme,key=len))))\n",
    "print('The longest chinese sequence '+str(len(max(chinese,key=len))))"
   ]
  },
  {
   "cell_type": "code",
   "execution_count": 27,
   "metadata": {
    "collapsed": true
   },
   "outputs": [],
   "source": [
    "#start the session prepare the work\n",
    "tf.reset_default_graph()\n",
    "sess = tf.InteractiveSession()"
   ]
  },
  {
   "cell_type": "code",
   "execution_count": null,
   "metadata": {
    "collapsed": true
   },
   "outputs": [],
   "source": [
    "#define the place holder for input and outputs\n",
    "encoder_inputs = tf.placeholder(shape=(None, None), dtype=tf.float32, name='encoder_inputs')\n",
    "decoder_targets = tf.placeholder(shape=(None, None), dtype=tf.float32, name='decoder_targets')\n",
    "decoder_inputs = tf.placeholder(shape=(None, None), dtype=tf.float32, name='decoder_inputs')"
   ]
  },
  {
   "cell_type": "markdown",
   "metadata": {},
   "source": [
    "### Create Vocabulary"
   ]
  },
  {
   "cell_type": "code",
   "execution_count": 76,
   "metadata": {},
   "outputs": [],
   "source": [
    "output_chinese =[]\n",
    "new_chinese = []\n",
    "output_english_phoneme = []\n",
    "with open('dataset.txt') as f:\n",
    "    for line in f:\n",
    "        temp = line.split('\\t')\n",
    "        new_chinese.append(temp[1])\n",
    "        output_english_phoneme.append(temp[2])"
   ]
  },
  {
   "cell_type": "code",
   "execution_count": 49,
   "metadata": {},
   "outputs": [],
   "source": [
    "with open('chinese_vocabulary.txt','w') as f1:\n",
    "    for ele in output_chinese:\n",
    "        f1.write(ele+'\\n')\n",
    "f1.close()\n",
    "\n",
    "with open('english_phoneme_vocabulary.txt','w') as f2:\n",
    "    for ele in output_english_phoneme:\n",
    "        if '\\n' in ele:\n",
    "            f2.write(ele)\n",
    "        else:\n",
    "            f2.write(ele+'\\n')\n",
    "f2.close()"
   ]
  },
  {
   "cell_type": "code",
   "execution_count": 59,
   "metadata": {},
   "outputs": [],
   "source": [
    "import data_utils\n",
    "from nltk.corpus import stopwords\n",
    "import string"
   ]
  },
  {
   "cell_type": "code",
   "execution_count": 84,
   "metadata": {
    "collapsed": true
   },
   "outputs": [],
   "source": [
    "import itertools\n",
    "output_chinese= list(set(list(itertools.chain.from_iterable(chinese))))\n",
    "\n",
    "with open('chinese_vocabulary_output.txt','w') as f3:\n",
    "    for ele in output_chinese:\n",
    "        if ele not in string.ascii_lowercase and ele not in string.ascii_uppercase and ele not in string.punctuation:\n",
    "            f3.write(ele+'\\n')\n",
    "f3.close()"
   ]
  },
  {
   "cell_type": "code",
   "execution_count": 51,
   "metadata": {},
   "outputs": [
    {
     "name": "stdout",
     "output_type": "stream",
     "text": [
      "Creating vocabulary english_phoneme_vocabulary_output.txt from data english_phoneme_vocabulary.txt\n"
     ]
    }
   ],
   "source": [
    "data_utils.create_vocabulary('english_phoneme_vocabulary_output.txt','english_phoneme_vocabulary.txt',1532)"
   ]
  },
  {
   "cell_type": "code",
   "execution_count": 78,
   "metadata": {},
   "outputs": [],
   "source": [
    "with open('chinese_vocabulary_output.txt','w') as f4:\n",
    "    for ele in new_chinese:\n",
    "        f4.write(ele+'\\n')\n",
    "f4.close()"
   ]
  },
  {
   "cell_type": "code",
   "execution_count": null,
   "metadata": {
    "collapsed": true
   },
   "outputs": [],
   "source": [
    "#write to real chinese vocabulary set\n",
    "with open('chinese_vocabulary_output.txt','w') as f3:\n",
    "    for ele in output_chinese:\n",
    "        if ele not in string.ascii_lowercase and ele not in string.ascii_uppercase and ele not in string.punctuation:\n",
    "            f3.write(ele+'\\n')\n",
    "f3.close()"
   ]
  },
  {
   "cell_type": "code",
   "execution_count": 80,
   "metadata": {},
   "outputs": [
    {
     "name": "stdout",
     "output_type": "stream",
     "text": [
      "Tokenizing data in ./tmp/chinese_real_vocabulary.txt\n"
     ]
    }
   ],
   "source": [
    "#give id to vocabulary\n",
    "data_utils.data_to_token_ids('./tmp/english_phoneme_vocabulary.txt','./tmp/english_phoneme_id','./tmp/english_phoneme_vocabulary_output.txt')"
   ]
  },
  {
   "cell_type": "code",
   "execution_count": 86,
   "metadata": {},
   "outputs": [],
   "source": [
    "#add 4 extra to the lsit\n",
    "dict_chinese = ['_PAD','_GO','_EOS','_UNK']+output_chinese"
   ]
  },
  {
   "cell_type": "code",
   "execution_count": 98,
   "metadata": {},
   "outputs": [],
   "source": [
    "#create the dictionary for ouptut id\n",
    "chinese_id_dict ={}\n",
    "for i in range(len(dict_chinese)):\n",
    "    chinese_id_dict[dict_chinese[i]]=i\n",
    "    \n",
    "chinese_id = []\n",
    "for ele in chinese:\n",
    "    chinese_id.append([chinese_id_dict[char] for char in ele])"
   ]
  },
  {
   "cell_type": "code",
   "execution_count": 123,
   "metadata": {},
   "outputs": [],
   "source": [
    "#write to chinese ids\n",
    "with open('chinese_ids.txt','w') as f5:\n",
    "    for ele in chinese_id:\n",
    "        for number in ele:\n",
    "            f5.write('%d ' % number)\n",
    "        f5.write('\\n')\n",
    "f5.close()"
   ]
  },
  {
   "cell_type": "markdown",
   "metadata": {
    "collapsed": true
   },
   "source": [
    "### Embeddigns"
   ]
  },
  {
   "cell_type": "code",
   "execution_count": null,
   "metadata": {
    "collapsed": true
   },
   "outputs": [],
   "source": [
    "embeddings = tf.Variable(tf.truncated_normal([vocab_size, input_embedding_size], mean=0.0, stddev=0.1), dtype=tf.float32)\n",
    "\n",
    "\n"
   ]
  },
  {
   "cell_type": "code",
   "execution_count": null,
   "metadata": {
    "collapsed": true
   },
   "outputs": [],
   "source": []
  },
  {
   "cell_type": "code",
   "execution_count": 1,
   "metadata": {
    "collapsed": true
   },
   "outputs": [],
   "source": [
    "import data_utils"
   ]
  },
  {
   "cell_type": "code",
   "execution_count": 3,
   "metadata": {},
   "outputs": [],
   "source": [
    "from_train = None\n",
    "to_train = None\n",
    "from_dev = None\n",
    "to_dev = None"
   ]
  },
  {
   "cell_type": "code",
   "execution_count": null,
   "metadata": {
    "collapsed": true
   },
   "outputs": [],
   "source": []
  }
 ],
 "metadata": {
  "anaconda-cloud": {},
  "kernelspec": {
   "display_name": "Python 3",
   "language": "python",
   "name": "python3"
  },
  "language_info": {
   "codemirror_mode": {
    "name": "ipython",
    "version": 3
   },
   "file_extension": ".py",
   "mimetype": "text/x-python",
   "name": "python",
   "nbconvert_exporter": "python",
   "pygments_lexer": "ipython3",
   "version": "3.6.1"
  }
 },
 "nbformat": 4,
 "nbformat_minor": 1
}
