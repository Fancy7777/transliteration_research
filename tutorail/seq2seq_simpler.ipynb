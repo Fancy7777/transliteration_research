{
 "cells": [
  {
   "cell_type": "code",
   "execution_count": 22,
   "metadata": {
    "collapsed": true
   },
   "outputs": [],
   "source": [
    "x=[[5,7,8],[6,3],[3],[1]]"
   ]
  },
  {
   "cell_type": "code",
   "execution_count": 23,
   "metadata": {
    "collapsed": true
   },
   "outputs": [],
   "source": [
    "import helpers"
   ]
  },
  {
   "cell_type": "code",
   "execution_count": 24,
   "metadata": {},
   "outputs": [],
   "source": [
    "#xt is the current matrix. xlen is each column's length\n",
    "#all defined under numpy\n",
    "xt,xlen = helpers.batch(x)"
   ]
  },
  {
   "cell_type": "code",
   "execution_count": 102,
   "metadata": {},
   "outputs": [],
   "source": [
    "import tensorflow as tf\n",
    "import numpy as np\n",
    "\n",
    "tf.reset_default_graph()\n",
    "sess = tf.InteractiveSession()\n"
   ]
  },
  {
   "cell_type": "markdown",
   "metadata": {},
   "source": [
    "Encoder starts with empty state and runs through the input sequence. We are not interested in encoder's outputs, only in its final_state.\n",
    "Decoder uses encoder's final_state as its initial_state. Its inputs are a batch-sized matrix with <EOS> token at the 1st time step and <PAD> at the following. \n",
    "\n",
    "This kind of encoder-decoder is forced to learn fixed-length representation (specifically, hidden_units size) of the variable-length input sequence and restore output sequence only from this representation."
   ]
  },
  {
   "cell_type": "code",
   "execution_count": 103,
   "metadata": {
    "collapsed": true
   },
   "outputs": [],
   "source": [
    "PAD = 0\n",
    "EOS = 1\n",
    "\n",
    "vocab_size = 10\n",
    "input_embedding_size = 20\n",
    "\n",
    "encoder_hidden_units = 20\n",
    "decoder_hidden_units = encoder_hidden_units"
   ]
  },
  {
   "cell_type": "code",
   "execution_count": 104,
   "metadata": {
    "collapsed": true
   },
   "outputs": [],
   "source": [
    "#define tf.placeholder for tf's input and output\n",
    "encoder_inputs = tf.placeholder(shape=(None, None), dtype=tf.int32, name='encoder_inputs')\n",
    "decoder_targets = tf.placeholder(shape=(None, None), dtype=tf.int32, name='decoder_targets')"
   ]
  },
  {
   "cell_type": "code",
   "execution_count": 105,
   "metadata": {
    "collapsed": true
   },
   "outputs": [],
   "source": [
    "#decoder_input\n",
    "decoder_inputs = tf.placeholder(shape=(None, None), dtype=tf.int32, name='decoder_inputs')"
   ]
  },
  {
   "cell_type": "markdown",
   "metadata": {},
   "source": [
    "# Embeddings\n",
    "First we initialize embedding matrix. Initializations are random. We rely on our end-to-end training to learn vector representations for words jointly with encoder and decoder."
   ]
  },
  {
   "cell_type": "code",
   "execution_count": 106,
   "metadata": {},
   "outputs": [],
   "source": [
    "embeddings = tf.Variable(tf.truncated_normal([vocab_size, input_embedding_size], mean=0.0, stddev=0.1), dtype=tf.float32)"
   ]
  },
  {
   "cell_type": "code",
   "execution_count": 107,
   "metadata": {},
   "outputs": [],
   "source": [
    "encoder_inputs_embedded = tf.nn.embedding_lookup(embeddings, encoder_inputs)\n",
    "decoder_inputs_embedded = tf.nn.embedding_lookup(embeddings, decoder_inputs)"
   ]
  },
  {
   "cell_type": "markdown",
   "metadata": {},
   "source": [
    "# Encoder\n",
    "\n",
    "\n",
    "We discard encoder_outputs because we are not interested in them within seq2seq framework. What we actually want is encoder_final_state — state of LSTM's hidden cells at the last moment of the Encoder rollout.\n",
    "\n",
    "encoder_final_state is also called \"thought vector\". We will use it as initial state for the Decoder. In seq2seq without attention this is the only point where Encoder passes information to Decoder. We hope that backpropagation through time (BPTT) algorithm will tune the model to pass enough information throught the thought vector for correct sequence output decoding.\n"
   ]
  },
  {
   "cell_type": "code",
   "execution_count": 108,
   "metadata": {
    "collapsed": true
   },
   "outputs": [],
   "source": [
    "encoder_cell = tf.contrib.rnn.LSTMCell(encoder_hidden_units)\n",
    "\n",
    "encoder_outputs, encoder_final_state = tf.nn.dynamic_rnn(\n",
    "    encoder_cell, encoder_inputs_embedded,\n",
    "    dtype=tf.float32, time_major=True,\n",
    ")\n",
    "\n",
    "del encoder_outputs"
   ]
  },
  {
   "cell_type": "code",
   "execution_count": 109,
   "metadata": {},
   "outputs": [
    {
     "data": {
      "text/plain": [
       "LSTMStateTuple(c=<tf.Tensor 'rnn/while/Exit_2:0' shape=(?, 20) dtype=float32>, h=<tf.Tensor 'rnn/while/Exit_3:0' shape=(?, 20) dtype=float32>)"
      ]
     },
     "execution_count": 109,
     "metadata": {},
     "output_type": "execute_result"
    }
   ],
   "source": [
    "encoder_final_state"
   ]
  },
  {
   "cell_type": "markdown",
   "metadata": {},
   "source": [
    "TensorFlow LSTM implementation stores state as a tuple of tensors.\n",
    "- encoder_final_state.h is activations of hidden layer of LSTM cell\n",
    "- encoder_final_state.c is final output, which can potentially be transfromed with some wrapper "
   ]
  },
  {
   "cell_type": "markdown",
   "metadata": {},
   "source": [
    "# Decoder"
   ]
  },
  {
   "cell_type": "code",
   "execution_count": 110,
   "metadata": {
    "collapsed": true
   },
   "outputs": [],
   "source": [
    "decoder_cell = tf.contrib.rnn.LSTMCell(decoder_hidden_units)\n",
    "\n",
    "decoder_outputs, decoder_final_state = tf.nn.dynamic_rnn(\n",
    "    decoder_cell, decoder_inputs_embedded,\n",
    "\n",
    "    initial_state=encoder_final_state,\n",
    "\n",
    "    dtype=tf.float32, time_major=True, scope=\"plain_decoder\",\n",
    ")"
   ]
  },
  {
   "cell_type": "code",
   "execution_count": 111,
   "metadata": {
    "collapsed": true
   },
   "outputs": [],
   "source": [
    "# connect with softmax layer\n",
    "decoder_logits = tf.contrib.layers.fully_connected(decoder_outputs, vocab_size)\n",
    "\n",
    "#output the max value in the so called_time stamp\n",
    "decoder_prediction = tf.argmax(decoder_logits, 2)"
   ]
  },
  {
   "cell_type": "code",
   "execution_count": 112,
   "metadata": {},
   "outputs": [
    {
     "data": {
      "text/plain": [
       "<tf.Tensor 'ArgMax:0' shape=(?, ?) dtype=int64>"
      ]
     },
     "execution_count": 112,
     "metadata": {},
     "output_type": "execute_result"
    }
   ],
   "source": [
    "decoder_prediction"
   ]
  },
  {
   "cell_type": "markdown",
   "metadata": {},
   "source": [
    "# Optimizer"
   ]
  },
  {
   "cell_type": "code",
   "execution_count": 113,
   "metadata": {
    "collapsed": true
   },
   "outputs": [],
   "source": [
    "stepwise_cross_entropy = tf.nn.softmax_cross_entropy_with_logits(\n",
    "    labels=tf.one_hot(decoder_targets, depth=vocab_size, dtype=tf.float32),\n",
    "    logits=decoder_logits,\n",
    ")\n",
    "\n",
    "loss = tf.reduce_mean(stepwise_cross_entropy)\n",
    "train_op = tf.train.AdamOptimizer().minimize(loss)"
   ]
  },
  {
   "cell_type": "code",
   "execution_count": 114,
   "metadata": {
    "collapsed": true
   },
   "outputs": [],
   "source": [
    "sess.run(tf.global_variables_initializer())"
   ]
  },
  {
   "cell_type": "markdown",
   "metadata": {},
   "source": [
    "### Test forward pass"
   ]
  },
  {
   "cell_type": "code",
   "execution_count": 115,
   "metadata": {},
   "outputs": [
    {
     "name": "stdout",
     "output_type": "stream",
     "text": [
      "batch_encoded:\n",
      "[[6 3 9]\n",
      " [0 4 8]\n",
      " [0 0 7]]\n",
      "decoder inputs:\n",
      "[[1 1 1]\n",
      " [0 0 0]\n",
      " [0 0 0]\n",
      " [0 0 0]]\n",
      "decoder predictions:\n",
      "[[3 3 3]\n",
      " [3 3 3]\n",
      " [2 2 2]\n",
      " [2 2 2]]\n"
     ]
    }
   ],
   "source": [
    "batch_ = [[6], [3, 4], [9, 8, 7]]\n",
    "\n",
    "batch_, batch_length_ = helpers.batch(batch_)\n",
    "print('batch_encoded:\\n' + str(batch_))\n",
    "\n",
    "din_, dlen_ = helpers.batch(np.ones(shape=(3, 1), dtype=np.int32),\n",
    "                            max_sequence_length=4)\n",
    "print('decoder inputs:\\n' + str(din_))\n",
    "\n",
    "pred_ = sess.run(decoder_prediction,\n",
    "    feed_dict={\n",
    "        encoder_inputs: batch_,\n",
    "        decoder_inputs: din_,\n",
    "    })\n",
    "print('decoder predictions:\\n' + str(pred_))"
   ]
  },
  {
   "cell_type": "markdown",
   "metadata": {},
   "source": [
    "### Training"
   ]
  },
  {
   "cell_type": "code",
   "execution_count": 116,
   "metadata": {
    "collapsed": true
   },
   "outputs": [],
   "source": [
    "batch_size = 100\n",
    "\n",
    "# batches is a generator\n",
    "batches = helpers.random_sequences(length_from=3, length_to=8,\n",
    "                                   vocab_lower=2, vocab_upper=10,\n",
    "                                   batch_size=batch_size)"
   ]
  },
  {
   "cell_type": "code",
   "execution_count": 117,
   "metadata": {},
   "outputs": [
    {
     "name": "stdout",
     "output_type": "stream",
     "text": [
      "[[5, 4, 3]]\n",
      "(array([[5],\n",
      "       [4],\n",
      "       [3],\n",
      "       [1]], dtype=int32), [4])\n"
     ]
    }
   ],
   "source": [
    "temp = next(batches)\n",
    "a = temp[:1]\n",
    "print a\n",
    "print helpers.batch([(sequence) + [EOS] for sequence in a])"
   ]
  },
  {
   "cell_type": "markdown",
   "metadata": {},
   "source": [
    "Given encoder_inputs [5, 6, 7], decoder_targets would be [5, 6, 7, 1], where 1 is for EOS, and decoder_inputs would be [1, 5, 6, 7] - decoder_inputs are lagged by 1 step, passing previous token as input at current step."
   ]
  },
  {
   "cell_type": "code",
   "execution_count": 118,
   "metadata": {},
   "outputs": [],
   "source": [
    "def next_feed():\n",
    "    batch = next(batches)\n",
    "    #batch help change the current list into a new format\n",
    "    #check above\n",
    "    encoder_inputs_, _ = helpers.batch(batch)\n",
    "    #add eos to last row\n",
    "    decoder_targets_, _ = helpers.batch(\n",
    "        [(sequence) + [EOS] for sequence in batch]\n",
    "    )\n",
    "    \n",
    "    decoder_inputs_, _ = helpers.batch(\n",
    "        [[EOS] + (sequence) for sequence in batch]\n",
    "    )\n",
    "    return {\n",
    "        encoder_inputs: encoder_inputs_,\n",
    "        decoder_inputs: decoder_inputs_,\n",
    "        decoder_targets: decoder_targets_,\n",
    "    }"
   ]
  },
  {
   "cell_type": "code",
   "execution_count": 119,
   "metadata": {},
   "outputs": [
    {
     "name": "stdout",
     "output_type": "stream",
     "text": [
      "0.0419861\n"
     ]
    }
   ],
   "source": [
    "print min(loss_track)"
   ]
  },
  {
   "cell_type": "code",
   "execution_count": 120,
   "metadata": {
    "collapsed": true
   },
   "outputs": [],
   "source": [
    "loss_track = []"
   ]
  },
  {
   "cell_type": "code",
   "execution_count": 121,
   "metadata": {},
   "outputs": [
    {
     "name": "stdout",
     "output_type": "stream",
     "text": [
      "batch 0\n",
      "  minibatch loss: 2.30795192719\n",
      "  sample 1:\n",
      "    input     > [4 9 6 0 0 0 0 0]\n",
      "    predicted > [7 7 7 7 2 2 2 2 2]\n",
      "  sample 2:\n",
      "    input     > [8 3 8 3 2 9 7 2]\n",
      "    predicted > [3 3 3 3 3 3 2 0 3]\n",
      "  sample 3:\n",
      "    input     > [7 5 9 4 9 0 0 0]\n",
      "    predicted > [3 0 3 9 9 9 2 2 2]\n",
      "()\n",
      "batch 1000\n",
      "  minibatch loss: 0.506815254688\n",
      "  sample 1:\n",
      "    input     > [8 7 5 6 7 3 0 0]\n",
      "    predicted > [5 5 5 3 7 3 1 0 0]\n",
      "  sample 2:\n",
      "    input     > [6 7 5 9 2 0 0 0]\n",
      "    predicted > [6 7 5 9 2 1 0 0 0]\n",
      "  sample 3:\n",
      "    input     > [8 3 7 8 5 9 6 4]\n",
      "    predicted > [3 7 7 4 5 9 6 4 1]\n",
      "()\n",
      "batch 2000\n",
      "  minibatch loss: 0.210689276457\n",
      "  sample 1:\n",
      "    input     > [3 8 6 6 8 2 8 0]\n",
      "    predicted > [3 6 6 6 8 2 8 1 0]\n",
      "  sample 2:\n",
      "    input     > [6 6 4 0 0 0 0 0]\n",
      "    predicted > [6 6 4 1 0 0 0 0 0]\n",
      "  sample 3:\n",
      "    input     > [4 3 6 5 0 0 0 0]\n",
      "    predicted > [4 3 6 5 1 0 0 0 0]\n",
      "()\n",
      "batch 3000\n",
      "  minibatch loss: 0.174735739827\n",
      "  sample 1:\n",
      "    input     > [4 4 9 0 0 0 0 0]\n",
      "    predicted > [4 4 9 1 0 0 0 0 0]\n",
      "  sample 2:\n",
      "    input     > [7 7 7 7 2 7 3 0]\n",
      "    predicted > [7 7 7 7 2 3 3 1 0]\n",
      "  sample 3:\n",
      "    input     > [8 5 2 0 0 0 0 0]\n",
      "    predicted > [8 5 2 1 0 0 0 0 0]\n",
      "()\n",
      "batch 4000\n",
      "  minibatch loss: 0.126404032111\n",
      "  sample 1:\n",
      "    input     > [3 8 3 9 5 2 0 0]\n",
      "    predicted > [3 8 3 9 5 2 1 0 0]\n",
      "  sample 2:\n",
      "    input     > [8 6 8 4 6 8 3 0]\n",
      "    predicted > [8 6 8 4 6 8 3 1 0]\n",
      "  sample 3:\n",
      "    input     > [6 8 8 6 0 0 0 0]\n",
      "    predicted > [6 8 8 6 1 0 0 0 0]\n",
      "()\n",
      "batch 5000\n",
      "  minibatch loss: 0.0995476469398\n",
      "  sample 1:\n",
      "    input     > [7 2 5 3 4 2 5 0]\n",
      "    predicted > [7 2 5 3 4 2 5 1 0]\n",
      "  sample 2:\n",
      "    input     > [4 7 4 7 4 9 0 0]\n",
      "    predicted > [4 7 4 7 4 9 1 0 0]\n",
      "  sample 3:\n",
      "    input     > [5 8 4 2 3 3 7 0]\n",
      "    predicted > [5 8 4 2 3 3 7 1 0]\n",
      "()\n",
      "batch 6000\n",
      "  minibatch loss: 0.0797716677189\n",
      "  sample 1:\n",
      "    input     > [2 7 6 2 7 3 2 0]\n",
      "    predicted > [2 7 6 2 7 3 2 1 0]\n",
      "  sample 2:\n",
      "    input     > [5 4 9 8 9 2 4 0]\n",
      "    predicted > [5 4 9 8 9 2 4 1 0]\n",
      "  sample 3:\n",
      "    input     > [8 3 4 0 0 0 0 0]\n",
      "    predicted > [8 3 4 1 0 0 0 0 0]\n",
      "()\n",
      "batch 7000\n",
      "  minibatch loss: 0.0701155290008\n",
      "  sample 1:\n",
      "    input     > [7 5 8 7 6 4 8 2]\n",
      "    predicted > [7 5 8 7 6 4 8 2 1]\n",
      "  sample 2:\n",
      "    input     > [6 4 3 3 4 6 6 0]\n",
      "    predicted > [6 4 3 3 4 6 6 1 0]\n",
      "  sample 3:\n",
      "    input     > [7 2 7 5 9 9 0 0]\n",
      "    predicted > [7 2 7 5 9 9 1 0 0]\n",
      "()\n"
     ]
    }
   ],
   "source": [
    "max_batches = 10001\n",
    "batches_in_epoch = 1000\n",
    "\n",
    "try:\n",
    "    for batch in range(max_batches):\n",
    "        fd = next_feed()\n",
    "        _, l = sess.run([train_op, loss], fd)\n",
    "        if l<0.04:\n",
    "            break\n",
    "        loss_track.append(l)\n",
    "\n",
    "        if batch == 0 or batch % batches_in_epoch == 0:\n",
    "            print('batch {}'.format(batch))\n",
    "            print('  minibatch loss: {}'.format(sess.run(loss, fd)))\n",
    "            predict_ = sess.run(decoder_prediction, fd)\n",
    "            for i, (inp, pred) in enumerate(zip(fd[encoder_inputs].T, predict_.T)):\n",
    "                print('  sample {}:'.format(i + 1))\n",
    "                print('    input     > {}'.format(inp))\n",
    "                print('    predicted > {}'.format(pred))\n",
    "                if i >= 2:\n",
    "                    break\n",
    "            print()\n",
    "except KeyboardInterrupt:\n",
    "    print('training interrupted')"
   ]
  },
  {
   "cell_type": "code",
   "execution_count": null,
   "metadata": {
    "collapsed": true
   },
   "outputs": [],
   "source": []
  },
  {
   "cell_type": "code",
   "execution_count": 94,
   "metadata": {},
   "outputs": [
    {
     "name": "stdout",
     "output_type": "stream",
     "text": [
      "loss 0.1137 after 1000100 examples (batch_size=100)\n"
     ]
    },
    {
     "data": {
      "image/png": "[encoded data removed]",
      "text/plain": [
       "<matplotlib.figure.Figure at 0x128fa1410>"
      ]
     },
     "metadata": {},
     "output_type": "display_data"
    }
   ],
   "source": [
    "#如果不加上%maplotlib inline 的话，每次figure的显示都需要plt.show();\n",
    "\n",
    "%matplotlib inline\n",
    "import matplotlib.pyplot as plt\n",
    "plt.plot(loss_track)\n",
    "print('loss {:.4f} after {} examples (batch_size={})'.format(loss_track[-1], len(loss_track)*batch_size, batch_size))"
   ]
  },
  {
   "cell_type": "code",
   "execution_count": null,
   "metadata": {
    "collapsed": true
   },
   "outputs": [],
   "source": []
  }
 ],
 "metadata": {
  "anaconda-cloud": {},
  "kernelspec": {
   "display_name": "Python 3",
   "language": "python",
   "name": "python3"
  },
  "language_info": {
   "codemirror_mode": {
    "name": "ipython",
    "version": 3
   },
   "file_extension": ".py",
   "mimetype": "text/x-python",
   "name": "python",
   "nbconvert_exporter": "python",
   "pygments_lexer": "ipython3",
   "version": "3.6.1"
  }
 },
 "nbformat": 4,
 "nbformat_minor": 1
}
