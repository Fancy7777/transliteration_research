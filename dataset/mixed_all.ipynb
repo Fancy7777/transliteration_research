{
 "cells": [
  {
   "cell_type": "code",
   "execution_count": 122,
   "metadata": {
    "collapsed": true
   },
   "outputs": [],
   "source": [
    "def get_rid_of_dot(chinese_word):\n",
    "    return ' '.join(chinese_character for chinese_character in chinese_word.split('·'))"
   ]
  },
  {
   "cell_type": "markdown",
   "metadata": {},
   "source": [
    "## didnt get rid of this － be careful"
   ]
  },
  {
   "cell_type": "code",
   "execution_count": 123,
   "metadata": {
    "collapsed": true
   },
   "outputs": [],
   "source": [
    "import string\n",
    "fname1 = \"good_to_go/ldc_propernames_place_ec_v1.beta_transformed_done.txt\"\n",
    "data1 = []\n",
    "with open(fname1) as f:\n",
    "    for line in f:\n",
    "        temp = line.split('\\t')\n",
    "        english_word = \"\".join(c for c in temp[0] if c not in string.punctuation)\n",
    "        chinese_word = temp[1].split('/')[1]\n",
    "        data1.append(english_word+'\\t'+get_rid_of_dot(chinese_word)+'\\t'+temp[2])"
   ]
  },
  {
   "cell_type": "code",
   "execution_count": 124,
   "metadata": {
    "collapsed": false
   },
   "outputs": [],
   "source": [
    "fname2 = \"good_to_go/ldc_propernames_people_ec_v1.beta_transformed.txt\"\n",
    "data2 = []\n",
    "with open(fname2) as f:\n",
    "    for line in f:\n",
    "        temp = line.split('\\t')\n",
    "        english_word = \"\".join(c for c in temp[0] if c not in string.punctuation)\n",
    "        chinese_word = temp[1].split('/')[1]\n",
    "        data2.append(english_word+'\\t'+get_rid_of_dot(chinese_word)+'\\n')"
   ]
  },
  {
   "cell_type": "code",
   "execution_count": 125,
   "metadata": {
    "collapsed": true
   },
   "outputs": [],
   "source": [
    "fname3 = \"good_to_go/ldc_whoswho_international_ec_v1_transformed_need_further_process.txt\"\n",
    "data3 = []\n",
    "with open(fname3) as f:\n",
    "    for line in f:\n",
    "        temp = line.split('\\t')\n",
    "        english_word = \"\".join(c for c in temp[0] if c not in string.punctuation)\n",
    "        data3.append(english_word+'\\t'+get_rid_of_dot(temp[1])+'\\t'+temp[2]+'\\n')"
   ]
  },
  {
   "cell_type": "code",
   "execution_count": 126,
   "metadata": {
    "collapsed": true
   },
   "outputs": [],
   "source": [
    "integration_data = data1+data2+data3"
   ]
  },
  {
   "cell_type": "code",
   "execution_count": 127,
   "metadata": {
    "collapsed": false
   },
   "outputs": [],
   "source": [
    "import random\n",
    "random.shuffle(integration_data)"
   ]
  },
  {
   "cell_type": "code",
   "execution_count": 134,
   "metadata": {
    "collapsed": false
   },
   "outputs": [
    {
     "name": "stdout",
     "output_type": "stream",
     "text": [
      "53204\n",
      "Counter({'USA\\n': 3145, 'Japan\\n': 2629, 'Russia\\n': 2610, 'South Korea\\n': 2304, 'France\\n': 1364, 'Germany\\n': 1319, 'UK\\n': 1162, 'Spain\\n': 1068, 'Italy\\n': 977, 'Brazil\\n': 842, 'India\\n': 759, 'Saudi Arabia\\n': 673, 'Greece\\n': 629, 'Tunisia\\n': 598, 'Egypt\\n': 589, 'Canada\\n': 565, 'Australia\\n': 558, 'Nigeria\\n': 554, 'Algeria\\n': 493, 'Vietnam\\n': 490, 'Indonesia\\n': 472, 'Yugoslavia\\n': 470, 'Madagascar\\n': 468, 'Romania\\n': 464, 'Sweden\\n': 453, 'North Korea\\n': 446, 'Zaire\\n': 442, 'Mexico\\n': 439, 'China\\n': 438, 'Thailand\\n': 436, 'Portugal\\n': 426, 'Philippines\\n': 414, 'Sudan\\n': 411, 'Poland\\n': 400, 'Jordan\\n': 400, 'Pakistan\\n': 392, 'Iran\\n': 380, 'Norway\\n': 369, 'Bulgaria\\n': 366, 'South Africa\\n': 362, 'Yemen\\n': 343, 'Argentina\\n': 342, 'Netherlands\\n': 339, 'Ethiopia\\n': 333, 'Austria\\n': 326, 'Palestine\\n': 313, 'Denmark\\n': 313, 'Iraq\\n': 303, 'Colombia\\n': 282, 'Finland\\n': 281, 'Switzerland\\n': 280, 'Hungary\\n': 280, 'Malaysia\\n': 280, 'Belgium\\n': 279, 'Chad\\n': 277, 'Peru\\n': 275, 'Syria\\n': 275, 'Niger\\n': 273, 'Venezuela\\n': 256, 'Nepal\\n': 256, 'Chile\\n': 250, 'Turkey\\n': 249, 'New Zealand\\n': 246, 'Ghana\\n': 246, 'Lebanon\\n': 245, 'Ivory Coast\\n': 243, 'Mauritania\\n': 241, 'Albania\\n': 234, 'Cuba\\n': 233, 'Ukraine\\n': 231, 'Bosnia and Herzegovina\\n': 229, 'Cambodia\\n': 229, 'Kenya\\n': 228, 'Cameroon\\n': 222, 'Mongolia\\n': 215, 'Libya\\n': 214, 'Myanmar\\n': 212, 'Mali\\n': 210, 'Tanzania\\n': 203, 'Sri Lanka\\n': 198, 'Central African Republic\\n': 197, 'Congo\\n': 194, 'Togo\\n': 193, 'Afghanistan\\n': 193, 'Mariana\\n': 191, 'Israel\\n': 191, 'Sierra Leone\\n': 185, 'Bolivia\\n': 182, 'Zambia\\n': 182, 'Ecuador\\n': 178, 'Uganda\\n': 174, 'Kazakhstan\\n': 170, 'Burkina Faso\\n': 169, 'Benin\\n': 167, 'Ireland\\n': 166, 'Kuwait\\n': 163, 'Bangladesh\\n': 160, 'Senegal\\n': 153, 'Czech\\n': 151, 'Crotia\\n': 150, 'Burundi\\n': 148, 'Belarus\\n': 148, 'Gabon\\n': 147, 'Oman\\n': 145, 'Haiti\\n': 145, 'Papua New Guinea\\n': 141, 'Angola\\n': 140, 'Morocco\\n': 140, 'Uruguay\\n': 132, 'Iceland\\n': 131, 'Liberia\\n': 126, 'Zimbabwe\\n': 126, 'Singapore\\n': 125, 'Guatemala\\n': 123, 'Guinea\\n': 122, 'Somalia\\n': 112, 'Mozambique\\n': 110, 'Namibia\\n': 109, 'Comoros Islands\\n': 109, 'Guinea-Bissau\\n': 108, 'Jamaica\\n': 107, 'Costa Rica\\n': 107, 'Rwanda\\n': 106, 'Macedonia\\n': 106, 'Mauritius\\n': 102, 'United Arab Emirates\\n': 100, 'Panama\\n': 100, 'Nicaragua\\n': 99, 'Cyprus\\n': 99, 'Paraguay\\n': 98, 'Czechoslovak\\n': 91, 'Slovakia\\n': 85, 'Cape Verde\\n': 83, 'Fiji\\n': 81, 'Guyana\\n': 80, 'El Salvador\\n': 80, 'Laos\\n': 80, 'Uzbekistan\\n': 78, 'Dominican Republic\\n': 78, 'Honduras\\n': 75, 'Equatorial Guinea\\n': 75, 'Qatar\\n': 71, 'Lithuania\\n': 71, 'Moldova\\n': 69, 'Armenia\\n': 68, 'Malawi\\n': 68, 'Trinidad and Tobago\\n': 67, 'Malta\\n': 67, 'Djibouti\\n': 66, 'Estonia\\n': 64, 'Gambia\\n': 63, 'Latvia\\n': 62, 'Georgia\\n': 60, 'Lesotho\\n': 59, 'Slovenia\\n': 57, 'Tajikistan\\n': 56, 'Bahamas\\n': 56, 'Sao Tome and Principe\\n': 55, 'Kyrgzstan\\n': 54, 'Botswana\\n': 52, 'Bahrain\\n': 52, 'Azerbaijan\\n': 52, 'Western Sahara\\n': 51, 'Turkmenistan\\n': 50, 'Suriname\\n': 49, 'Swaziland\\n': 49, 'Luxembourg\\n': 48, 'San Marino\\n': 48, 'Barbados\\n': 47, 'Belize\\n': 46, 'Solomon Islands\\n': 46, 'Eritrea\\n': 44, 'International\\n': 40, 'Seychelles\\n': 39, 'Vanuatu\\n': 36, 'Dominica\\n': 35, 'St. Lucia\\n': 32, 'Pacific Ocean\\n': 31, 'Andora\\n': 30, 'Antigua\\n': 29, 'Marshall Islands\\n': 28, 'Hong Kong\\n': 28, 'Kiribati\\n': 28, 'Macau\\n': 28, 'St. Vincent and the Grenadines\\n': 25, 'Greenland\\n': 25, 'Korea\\n': 25, 'Antarctic\\n': 24, 'Liechtenstein\\n': 24, 'Puerto Rico\\n': 23, 'Brunei\\n': 23, 'Tonga\\n': 21, 'Western Samoa\\n': 20, 'Indian Ocean\\n': 20, 'Polynesia\\n': 18, 'Maldives\\n': 18, 'West Asia\\n': 17, 'Atlantic\\n': 17, 'Grenada\\n': 16, 'Caribbean\\n': 16, 'Tuvalu\\n': 16, 'Nauru\\n': 15, 'St. Christopher-Navis\\n': 13, 'Monaco\\n': 12, 'Palau\\n': 12, 'Europe\\n': 11, 'Reunion\\n': 11, 'Bhutan\\n': 11, 'Micronesia\\n': 9, 'Asia\\n': 9, 'Guam\\n': 8, 'Spanish\\n': 8, 'Gulf\\n': 7, 'France_Italy\\n': 7, 'East Timor\\n': 7, 'German\\n': 7, 'Cook Islands\\n': 7, 'Faroe\\n': 7, 'Arctic\\n': 6, 'French Guiana\\n': 6, 'Saudi Arabia_Iraq\\n': 6, 'Swedish\\n': 5, 'Argentina_Chile\\n': 5, 'Kashmir\\n': 5, 'Caroline Islands\\n': 5, 'Taiwan\\n': 5, 'Czech_Slovakia\\n': 4, 'Vatican\\n': 4, 'South America\\n': 4, 'Palestine_Jordan\\n': 4, 'Africa\\n': 4, 'Italy_France\\n': 4, 'French\\n': 4, 'Turkish\\n': 4, 'Nigeria_Cameroon\\n': 3, 'Commonwealth of Independent States\\n': 3, 'Portuguese\\n': 3, 'Oceania\\n': 3, 'Bermuda\\n': 3, 'North Sea\\n': 3, 'Puerto Rico-USA\\n': 3, 'American Samoa\\n': 3, 'Bay of Bengal\\n': 3, 'English\\n': 3, 'Turks and Caicos Islands\\n': 3, 'New Caledonia\\n': 3, 'Switzerland_Italy\\n': 3, 'Venezuela_Colombia\\n': 2, 'Sweden_Finland\\n': 2, 'Brazil_Paraguay\\n': 2, 'Malay\\n': 2, 'Martinique\\n': 2, 'UN\\n': 2, 'Gulf of Aden\\n': 2, 'Bolivia_Chile\\n': 2, 'Icelandic\\n': 2, 'Jordan_Palestine\\n': 2, 'Danish\\n': 2, 'Southeast Asia\\n': 2, 'Bering Sea\\n': 2, 'Canada_USA\\n': 2, 'Burmese\\n': 2, 'Algeria_Morocco\\n': 2, 'Asia_Africa\\n': 2, 'Canary Islands\\n': 2, 'UN-Bosnia-Herzegovina\\n': 2, 'Italy_Switzerland\\n': 2, 'Mediterranean\\n': 2, 'Niue\\n': 2, 'Russia_China\\n': 2, 'Korea_China\\n': 1, 'South Africa_Namibia\\n': 1, 'Arab\\n': 1, 'Mauritania_Algeria\\n': 1, 'Russia_Afghanistan\\n': 1, 'Vietnam_China\\n': 1, 'Mali_Niger\\n': 1, 'International-Europe\\n': 1, 'International-China\\n': 1, 'Chad_Central African Republic\\n': 1, 'Mali_Algeria\\n': 1, 'Latvian\\n': 1, 'Romanian\\n': 1, 'International-Australia\\n': 1, 'Saudi Arabia_United Arab Emirates\\n': 1, 'Italy_Austria\\n': 1, 'Libya_Egypt\\n': 1, 'Red Sea\\n': 1, 'Egypt_Palestine\\n': 1, 'Mexico_Venezuela\\n': 1, 'Western Sahara_Mauritania\\n': 1, 'Central African Republic_Zaire\\n': 1, 'Egypt_Sudan\\n': 1, 'Czech_Slovakia_Poland\\n': 1, 'Ethiopia_Kenya\\n': 1, 'Polish\\n': 1, 'Tunisia_Algeria\\n': 1, 'Mexico_Belize\\n': 1, 'Yugoslavia-USA\\n': 1, 'Russian\\n': 1, 'USA-Egypt\\n': 1, 'Iran_Iraq\\n': 1, 'Finish\\n': 1, 'Switzerland_Germany\\n': 1, 'Norweigian\\n': 1, 'Australia-Yugoslavia\\n': 1, 'Middle East\\n': 1, 'Vietnamese\\n': 1, 'North Africa_South Europe\\n': 1, 'USA_Canada\\n': 1, 'International-Senegal\\n': 1, 'Mexico_USA\\n': 1, 'Ivory Coast_Mali\\n': 1, 'Moldova-Romania\\n': 1, 'West Asia_North Africa\\n': 1, 'Russia_Poland\\n': 1, 'Ghana_Togo\\n': 1, 'Sudan_Ethiopia\\n': 1, 'Madeira\\n': 1, 'Ukrain Russia\\n': 1, 'USA-Netherlands\\n': 1, 'Romania_Yugoslavia\\n': 1, 'North America\\n': 1, 'Falkland\\n': 1, 'Pitcairn\\n': 1, 'Italian\\n': 1, 'Poland-UK\\n': 1, 'Sikkim\\n': 1, 'German Democratic Republic\\n': 1, 'Rwanda_Burundi\\n': 1, 'Latin America\\n': 1, 'India_Sri Lanka\\n': 1, 'Arabian Sea\\n': 1, 'Iran_Turkey\\n': 1, 'USA-Switzerland\\n': 1, 'Australia_Indonesia\\n': 1, 'Sudan_Zaire\\n': 1, 'Peru_Bolivia\\n': 1, 'Equatorial Guinea_Cameroon\\n': 1, 'Jordan_Saud Arabia\\n': 1, 'Turkey_Georgia_Armenia\\n': 1, 'Switzerland_Austria_Italy\\n': 1, 'Uganda_Sudan\\n': 1, 'Syria_Iraq\\n': 1, 'USA-Romania\\n': 1, 'Kenya_Tanzania\\n': 1, 'Norway_Finland\\n': 1, 'Sudan_Central African Republic\\n': 1, 'Libya_Algeria\\n': 1, 'Congo_Gabon\\n': 1, 'Belgium_France\\n': 1, 'Bangladesh_India\\n': 1, 'South Asia\\n': 1, 'Afghanistan_Pakistan\\n': 1, 'British Virgin Islands\\n': 1, 'Dutch\\n': 1, 'Russia_Iran\\n': 1, 'Bolivia_Brazil\\n': 1, 'Hungarian\\n': 1, 'Spain_Portugal\\n': 1, 'Luxembourg_Belgium\\n': 1, 'Algeria_Mali\\n': 1, 'Estonia-USA\\n': 1, 'Spain_France\\n': 1, 'Argentina-UK\\n': 1, 'Cameroon_Gabon\\n': 1, 'Vietnam_Laos\\n': 1, 'Irish\\n': 1, 'Greece_Turkey\\n': 1, 'Ethiopia_Djibouti\\n': 1, 'Tongan\\n': 1, 'St. Helena\\n': 1, 'Uganda_Zaire\\n': 1, 'Indonesian\\n': 1, 'Iran_Turkmenistan\\n': 1, 'Tunisia_Libya\\n': 1, 'Venezuela_Guyana\\n': 1, 'Ukraine-Italy\\n': 1, 'France_Switzerland\\n': 1, 'Somali\\n': 1, 'Switzerland-France\\n': 1, 'Lichtenstein\\n': 1, 'Mauritania_Western Sahara\\n': 1, 'Brazil_Guyana\\n': 1, 'Laos_Vietnam\\n': 1, 'Mali_Guinea\\n': 1, 'Mongolian\\n': 1, 'Niger_Mali\\n': 1})\n"
     ]
    }
   ],
   "source": [
    "from collections import Counter\n",
    "print len(count)\n",
    "print Counter(count)"
   ]
  },
  {
   "cell_type": "markdown",
   "metadata": {},
   "source": [
    "## get rid of Japan, North Korea, South Korea, Korea_China"
   ]
  },
  {
   "cell_type": "code",
   "execution_count": 138,
   "metadata": {
    "collapsed": false
   },
   "outputs": [
    {
     "name": "stdout",
     "output_type": "stream",
     "text": [
      "Chung JongAm\t郑钟岩\tSouth Korea\n",
      "\n",
      "64916\n"
     ]
    }
   ],
   "source": [
    "print integration_data[0]\n",
    "print len(integration_data)"
   ]
  },
  {
   "cell_type": "code",
   "execution_count": 139,
   "metadata": {
    "collapsed": true
   },
   "outputs": [],
   "source": [
    "new_integration_data = []\n",
    "for ele in integration_data:\n",
    "    not_allowed =['Japan\\n','North Korea\\n','South Korea\\n','Korea_China\\n']\n",
    "    temp = ele.split('\\t')\n",
    "    if len(temp)>2:\n",
    "        if temp[2] not in not_allowed:\n",
    "            new_integration_data.append(ele)\n",
    "    else:\n",
    "        new_integration_data.append(ele)"
   ]
  },
  {
   "cell_type": "code",
   "execution_count": 140,
   "metadata": {
    "collapsed": false
   },
   "outputs": [
    {
     "name": "stdout",
     "output_type": "stream",
     "text": [
      "59536\n"
     ]
    }
   ],
   "source": [
    "print len(new_integration_data)"
   ]
  },
  {
   "cell_type": "code",
   "execution_count": 141,
   "metadata": {
    "collapsed": true
   },
   "outputs": [],
   "source": [
    "write_file = open(\"using_dataset.txt\",'w')\n",
    "for ele in new_integration_data:\n",
    "    write_file.write(ele)\n",
    "write_file.close()"
   ]
  },
  {
   "cell_type": "code",
   "execution_count": null,
   "metadata": {
    "collapsed": true
   },
   "outputs": [],
   "source": []
  }
 ],
 "metadata": {
  "anaconda-cloud": {},
  "kernelspec": {
   "display_name": "Python [Root]",
   "language": "python",
   "name": "Python [Root]"
  },
  "language_info": {
   "codemirror_mode": {
    "name": "ipython",
    "version": 2
   },
   "file_extension": ".py",
   "mimetype": "text/x-python",
   "name": "python",
   "nbconvert_exporter": "python",
   "pygments_lexer": "ipython2",
   "version": "2.7.12"
  }
 },
 "nbformat": 4,
 "nbformat_minor": 0
}
