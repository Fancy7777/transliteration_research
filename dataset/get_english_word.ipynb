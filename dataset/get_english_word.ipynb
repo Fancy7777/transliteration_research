{
 "cells": [
  {
   "cell_type": "code",
   "execution_count": 1,
   "metadata": {
    "collapsed": true
   },
   "outputs": [],
   "source": [
    "english_word=[]\n",
    "with open(\"using_dataset.txt\") as f:\n",
    "    for line in f:\n",
    "        english_word.append(line.split('\\t')[0])"
   ]
  },
  {
   "cell_type": "code",
   "execution_count": 5,
   "metadata": {
    "collapsed": false
   },
   "outputs": [],
   "source": [
    "\n",
    "with open(\"english_words.txt\",'w') as write_file:\n",
    "    for ele in english_word:\n",
    "        write_file.write(ele+'\\n')\n",
    "write_file.close()"
   ]
  },
  {
   "cell_type": "code",
   "execution_count": 8,
   "metadata": {
    "collapsed": true
   },
   "outputs": [],
   "source": [
    "count = 0\n",
    "with open(\"english_words_1_10000.txt\",'w') as write_file1:\n",
    "    for ele in english_word:\n",
    "        if count>=10000:\n",
    "            break\n",
    "        write_file1.write(ele+'\\n')\n",
    "        count+=1\n",
    "write_file1.close()"
   ]
  },
  {
   "cell_type": "code",
   "execution_count": 14,
   "metadata": {
    "collapsed": false
   },
   "outputs": [
    {
     "name": "stdout",
     "output_type": "stream",
     "text": [
      "29999\n"
     ]
    }
   ],
   "source": [
    "print english_word.index('amstelhoek')"
   ]
  },
  {
   "cell_type": "code",
   "execution_count": 17,
   "metadata": {
    "collapsed": true
   },
   "outputs": [],
   "source": [
    "with open(\"english_words_50001_last.txt\",'w') as write_file1:\n",
    "    for i in range(50000,len(english_word)):\n",
    "        #if i>=50000:\n",
    "            #break\n",
    "        write_file1.write(english_word[i]+'\\n')\n",
    "        count+=1\n",
    "write_file1.close()"
   ]
  },
  {
   "cell_type": "code",
   "execution_count": null,
   "metadata": {
    "collapsed": true
   },
   "outputs": [],
   "source": []
  }
 ],
 "metadata": {
  "kernelspec": {
   "display_name": "Python [Root]",
   "language": "python",
   "name": "Python [Root]"
  },
  "language_info": {
   "codemirror_mode": {
    "name": "ipython",
    "version": 2
   },
   "file_extension": ".py",
   "mimetype": "text/x-python",
   "name": "python",
   "nbconvert_exporter": "python",
   "pygments_lexer": "ipython2",
   "version": "2.7.12"
  }
 },
 "nbformat": 4,
 "nbformat_minor": 0
}
