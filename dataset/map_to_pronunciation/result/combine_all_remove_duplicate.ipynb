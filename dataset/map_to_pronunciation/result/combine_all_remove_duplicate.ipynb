{
 "cells": [
  {
   "cell_type": "code",
   "execution_count": 1,
   "metadata": {
    "collapsed": true
   },
   "outputs": [],
   "source": [
    "data1 =[]\n",
    "with open('english_words_1_10000_result.txt') as file1:\n",
    "    for line in file1:\n",
    "        temp = line.split('\\t')\n",
    "        data1.append(temp[0].lower()+'\\t'+temp[1])"
   ]
  },
  {
   "cell_type": "code",
   "execution_count": 3,
   "metadata": {
    "collapsed": false
   },
   "outputs": [],
   "source": [
    "data2 =[]\n",
    "with open('english_words_10001_20000_result.txt') as file2:\n",
    "    for line in file2:\n",
    "        temp = line.split('\\t')\n",
    "        data2.append(temp[0].lower()+'\\t'+temp[1])"
   ]
  },
  {
   "cell_type": "code",
   "execution_count": 4,
   "metadata": {
    "collapsed": true
   },
   "outputs": [],
   "source": [
    "data3 =[]\n",
    "with open('english_words_20001_30000_result.txt') as file3:\n",
    "    for line in file3:\n",
    "        temp = line.split('\\t')\n",
    "        data3.append(temp[0].lower()+'\\t'+temp[1])"
   ]
  },
  {
   "cell_type": "code",
   "execution_count": 5,
   "metadata": {
    "collapsed": true
   },
   "outputs": [],
   "source": [
    "data4 =[]\n",
    "with open('english_words_30001_40000_result.txt') as file4:\n",
    "    for line in file4:\n",
    "        temp = line.split('\\t')\n",
    "        data4.append(temp[0].lower()+'\\t'+temp[1])"
   ]
  },
  {
   "cell_type": "code",
   "execution_count": 6,
   "metadata": {
    "collapsed": true
   },
   "outputs": [],
   "source": [
    "data5 =[]\n",
    "with open('english_words_40001_50000_result.txt') as file5:\n",
    "    for line in file5:\n",
    "        temp = line.split('\\t')\n",
    "        data5.append(temp[0].lower()+'\\t'+temp[1])"
   ]
  },
  {
   "cell_type": "code",
   "execution_count": 7,
   "metadata": {
    "collapsed": true
   },
   "outputs": [],
   "source": [
    "data6 =[]\n",
    "with open('english_words_50001_last_result.txt') as file6:\n",
    "    for line in file6:\n",
    "        temp = line.split('\\t')\n",
    "        data6.append(temp[0].lower()+'\\t'+temp[1])"
   ]
  },
  {
   "cell_type": "code",
   "execution_count": 8,
   "metadata": {
    "collapsed": true
   },
   "outputs": [],
   "source": [
    "combine_data = data1+data2+data3+data4+data5+data6"
   ]
  },
  {
   "cell_type": "code",
   "execution_count": 9,
   "metadata": {
    "collapsed": false
   },
   "outputs": [
    {
     "name": "stdout",
     "output_type": "stream",
     "text": [
      "59653\n"
     ]
    }
   ],
   "source": [
    "print len(combine_data)"
   ]
  },
  {
   "cell_type": "code",
   "execution_count": 13,
   "metadata": {
    "collapsed": false
   },
   "outputs": [
    {
     "name": "stdout",
     "output_type": "stream",
     "text": [
      "abaigar\tAH B EY G AH R\n"
     ]
    }
   ],
   "source": [
    "print combine_data[-1]"
   ]
  },
  {
   "cell_type": "markdown",
   "metadata": {},
   "source": [
    "# get rid of the duplicates(means with multiple pronunciation)"
   ]
  },
  {
   "cell_type": "code",
   "execution_count": 23,
   "metadata": {
    "collapsed": false
   },
   "outputs": [],
   "source": [
    "for ele in combine_data:\n",
    "    temp = ele.split('\\t')\n",
    "    if '(' in temp[0]:\n",
    "        combine_data.remove(ele)"
   ]
  },
  {
   "cell_type": "code",
   "execution_count": 59,
   "metadata": {
    "collapsed": false
   },
   "outputs": [
    {
     "name": "stdout",
     "output_type": "stream",
     "text": [
      "59536\n"
     ]
    }
   ],
   "source": [
    "#map with the original number of data\n",
    "print len(combine_data)"
   ]
  },
  {
   "cell_type": "code",
   "execution_count": 66,
   "metadata": {
    "collapsed": false
   },
   "outputs": [],
   "source": [
    "## there are some missing changed lines. fixed it\n",
    "check3 = []\n",
    "with open('combined_data_with_pronun.txt') as f1:\n",
    "    for ele in f1:\n",
    "        temp = ele.split('\\t')\n",
    "        check3.append(temp[0])"
   ]
  },
  {
   "cell_type": "code",
   "execution_count": 68,
   "metadata": {
    "collapsed": false
   },
   "outputs": [
    {
     "name": "stdout",
     "output_type": "stream",
     "text": [
      "mariano de araujo matsinhe\n",
      "marek belka\n",
      "fatos bitincka\n",
      "amfile b\n",
      "adamsson\n"
     ]
    }
   ],
   "source": [
    "for ele in check:\n",
    "    if ele not in check3:\n",
    "        print ele\n",
    "        \n",
    "#missing one below"
   ]
  },
  {
   "cell_type": "markdown",
   "metadata": {},
   "source": [
    "## final output is combined_data_with_pronun.txt"
   ]
  },
  {
   "cell_type": "code",
   "execution_count": null,
   "metadata": {
    "collapsed": true
   },
   "outputs": [],
   "source": []
  }
 ],
 "metadata": {
  "kernelspec": {
   "display_name": "Python [Root]",
   "language": "python",
   "name": "Python [Root]"
  },
  "language_info": {
   "codemirror_mode": {
    "name": "ipython",
    "version": 2
   },
   "file_extension": ".py",
   "mimetype": "text/x-python",
   "name": "python",
   "nbconvert_exporter": "python",
   "pygments_lexer": "ipython2",
   "version": "2.7.12"
  }
 },
 "nbformat": 4,
 "nbformat_minor": 0
}
