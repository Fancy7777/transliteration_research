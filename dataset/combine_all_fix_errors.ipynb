{
 "cells": [
  {
   "cell_type": "code",
   "execution_count": 1,
   "metadata": {
    "collapsed": true
   },
   "outputs": [],
   "source": [
    "## this file combine using_dataset.txt and combined_data_with_pronun.txt into one file"
   ]
  },
  {
   "cell_type": "code",
   "execution_count": 4,
   "metadata": {
    "collapsed": true
   },
   "outputs": [],
   "source": [
    "english_word_with_pronun=[]\n",
    "with open('combined_data_with_pronun.txt') as file1:\n",
    "    for line in file1:\n",
    "        temp =line.split('\\t')\n",
    "        english_word_with_pronun.append(temp[1])"
   ]
  },
  {
   "cell_type": "code",
   "execution_count": 3,
   "metadata": {
    "collapsed": true
   },
   "outputs": [],
   "source": [
    "origin=[]\n",
    "with open('using_dataset.txt') as file2:\n",
    "    for line in file2:\n",
    "        origin.append(line)"
   ]
  },
  {
   "cell_type": "code",
   "execution_count": 18,
   "metadata": {
    "collapsed": false
   },
   "outputs": [],
   "source": [
    "## change the formate to dictionary \n",
    "##'(english_word, chinese word)': location: if_has, pronunciation:__, etc:___ \n",
    "origin_dict ={}\n",
    "for index in range(len(origin)):\n",
    "    temp = origin[index].split('\\t')\n",
    "    if len(temp)>2:\n",
    "        location = {}\n",
    "        location['location'] = temp[2]\n",
    "        pronounciation = {}\n",
    "        pronounciation['pronounciation'] = english_word_with_pronun[index]\n",
    "        chinese= {}\n",
    "        chinese['chinese'] = temp[1]\n",
    "        origin_dict[temp[0]] = []\n",
    "        origin_dict[temp[0]].append(chinese)\n",
    "        origin_dict[temp[0]].append(location)\n",
    "        origin_dict[temp[0]].append(pronounciation)\n",
    "    else:\n",
    "        pronounciation = {}\n",
    "        pronounciation['pronounciation'] = english_word_with_pronun[index]\n",
    "        chinese= {}\n",
    "        chinese['chinese'] = temp[1]\n",
    "        origin_dict[temp[0]] = []\n",
    "        origin_dict[temp[0]].append(pronounciation)\n",
    "        origin_dict[temp[0]].append(chinese)\n",
    "    #origin_dict[(temp[0],temp[1])] = {}\n"
   ]
  },
  {
   "cell_type": "code",
   "execution_count": 20,
   "metadata": {
    "collapsed": false
   },
   "outputs": [],
   "source": [
    "import json\n",
    "with open('result.json', 'w') as fp:\n",
    "    json.dump(origin_dict, fp)"
   ]
  },
  {
   "cell_type": "code",
   "execution_count": 32,
   "metadata": {
    "collapsed": false
   },
   "outputs": [
    {
     "name": "stdout",
     "output_type": "stream",
     "text": [
      "['AH B IY ER D EH R', '']\n"
     ]
    }
   ],
   "source": [
    "print english_word_with_pronun[0].split('\\n')"
   ]
  },
  {
   "cell_type": "code",
   "execution_count": 40,
   "metadata": {
    "collapsed": true
   },
   "outputs": [],
   "source": [
    "## json sames too big to process\n",
    "## change to english_word + '\\t' + chinese_word +'\\t' + pronounciation + '\\t' + location(if has)\n",
    "\n",
    "with open('dataset.txt','w') as f:\n",
    "    for index in range(len(origin)):\n",
    "        temp = origin[index].split('\\t')\n",
    "        if len(temp)>2:\n",
    "            location = temp[2].split('\\n')[0]\n",
    "            pronounciation = english_word_with_pronun[index].split('\\n')[0]\n",
    "            f.write(temp[0]+'\\t'+temp[1]+'\\t'+pronounciation+'\\t'+location+'\\n')\n",
    "        else:\n",
    "            chinese_word = temp[1].split('\\n')[0]\n",
    "            pronounciation = english_word_with_pronun[index].split('\\n')[0]\n",
    "            f.write(temp[0]+'\\t'+chinese_word+'\\t'+pronounciation+'\\n')\n",
    "f.close()            \n"
   ]
  },
  {
   "cell_type": "code",
   "execution_count": 53,
   "metadata": {
    "collapsed": false
   },
   "outputs": [],
   "source": [
    "## fix － in chinese\n",
    "fix_temp_data =[]\n",
    "with open('dataset.txt') as f2:\n",
    "    for line in f2:\n",
    "        fix_temp_data.append(line)"
   ]
  },
  {
   "cell_type": "code",
   "execution_count": 69,
   "metadata": {
    "collapsed": false
   },
   "outputs": [],
   "source": [
    "fix_data = []\n",
    "for ele in fix_temp_data:\n",
    "    temp = ele.split('\\t')\n",
    "    if '－' in temp[1]:\n",
    "        replace = temp[1].replace('－',' ')\n",
    "        temp[1] = replace\n",
    "        fix_data.append('\\t'.join(temp))\n",
    "    else:\n",
    "        fix_data.append(ele)"
   ]
  },
  {
   "cell_type": "code",
   "execution_count": 72,
   "metadata": {
    "collapsed": false
   },
   "outputs": [],
   "source": [
    "for item in fix_data:\n",
    "    temp = item.split('\\t')\n",
    "    if '－' in temp[1]:\n",
    "        print item"
   ]
  },
  {
   "cell_type": "code",
   "execution_count": 74,
   "metadata": {
    "collapsed": false
   },
   "outputs": [],
   "source": [
    "with open('dataset_fix_todo9.txt','w') as f3:\n",
    "    for ele in fix_data:\n",
    "        f3.write(ele)\n",
    "f3.close()"
   ]
  },
  {
   "cell_type": "code",
   "execution_count": null,
   "metadata": {
    "collapsed": true
   },
   "outputs": [],
   "source": []
  }
 ],
 "metadata": {
  "anaconda-cloud": {},
  "kernelspec": {
   "display_name": "Python [Root]",
   "language": "python",
   "name": "Python [Root]"
  },
  "language_info": {
   "codemirror_mode": {
    "name": "ipython",
    "version": 2
   },
   "file_extension": ".py",
   "mimetype": "text/x-python",
   "name": "python",
   "nbconvert_exporter": "python",
   "pygments_lexer": "ipython2",
   "version": "2.7.12"
  }
 },
 "nbformat": 4,
 "nbformat_minor": 0
}
