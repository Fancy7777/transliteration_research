{
 "cells": [
  {
   "cell_type": "code",
   "execution_count": 47,
   "metadata": {
    "collapsed": true
   },
   "outputs": [],
   "source": [
    "real_cal = []\n",
    "with open('test.chi') as f:\n",
    "    for ele in f:\n",
    "        real_cal.append(ele.split(' '))"
   ]
  },
  {
   "cell_type": "code",
   "execution_count": 54,
   "metadata": {},
   "outputs": [],
   "source": [
    "for ele in real_cal:\n",
    "    for char in ele:\n",
    "        if '。' == char:\n",
    "            ele.remove(char)\n",
    "        if ' ' == char:\n",
    "            ele.remove(char)\n",
    "        if '\\n' == char:\n",
    "            ele.remove(char)\n",
    "        if '' == char:\n",
    "            ele.remove(char)"
   ]
  },
  {
   "cell_type": "code",
   "execution_count": 56,
   "metadata": {
    "collapsed": true
   },
   "outputs": [],
   "source": [
    "predict_3ppl = []\n",
    "with open('predict_3ppl.chi') as f:\n",
    "    for ele in f:\n",
    "        predict_3ppl.append(ele.split(' '))"
   ]
  },
  {
   "cell_type": "code",
   "execution_count": 64,
   "metadata": {},
   "outputs": [],
   "source": [
    "for ele in predict_3ppl:\n",
    "    for char in ele:\n",
    "        if '。' == char:\n",
    "            ele.remove(char)\n",
    "        if ' ' == char:\n",
    "            ele.remove(char)\n",
    "        if '。\\n' == char:\n",
    "            ele.remove(char)\n",
    "        if '' == char:\n",
    "            ele.remove(char)"
   ]
  },
  {
   "cell_type": "code",
   "execution_count": 81,
   "metadata": {
    "collapsed": true
   },
   "outputs": [],
   "source": [
    "predict_multi_layer = []\n",
    "with open('predict.chi') as f:\n",
    "    for ele in f:\n",
    "        predict_multi_layer.append(ele.split(' '))"
   ]
  },
  {
   "cell_type": "code",
   "execution_count": 83,
   "metadata": {
    "collapsed": true
   },
   "outputs": [],
   "source": [
    "for ele in predict_multi_layer:\n",
    "    for char in ele:\n",
    "        if '。' == char:\n",
    "            ele.remove(char)\n",
    "        if ' ' == char:\n",
    "            ele.remove(char)\n",
    "        if '。\\n' == char:\n",
    "            ele.remove(char)\n",
    "        if '' == char:\n",
    "            ele.remove(char)"
   ]
  },
  {
   "cell_type": "code",
   "execution_count": 108,
   "metadata": {},
   "outputs": [],
   "source": [
    "def cal_acc(predict,target):\n",
    "    acc_current = 0\n",
    "    for i in range(len(predict)):\n",
    "        correct_num = 0\n",
    "        tmp_larger_lenth = len(real_cal[i])\n",
    "        for j in range(tmp_larger_lenth):\n",
    "            try:\n",
    "                if real_cal[i][j] == predict[i][j]:\n",
    "                    correct_num +=1\n",
    "            except:\n",
    "                #correct_num -=1\n",
    "                pass\n",
    "        acc_current += float(correct_num/tmp_larger_lenth)\n",
    "    return acc_current/float(5953)"
   ]
  },
  {
   "cell_type": "code",
   "execution_count": 113,
   "metadata": {},
   "outputs": [
    {
     "data": {
      "text/plain": [
       "['阿', '通', '加', '巴', '卡', '里']"
      ]
     },
     "execution_count": 113,
     "metadata": {},
     "output_type": "execute_result"
    }
   ],
   "source": [
    "predict_3ppl[0]"
   ]
  },
  {
   "cell_type": "markdown",
   "metadata": {},
   "source": [
    "### 3ppl 那个"
   ]
  },
  {
   "cell_type": "code",
   "execution_count": 109,
   "metadata": {},
   "outputs": [
    {
     "data": {
      "text/plain": [
       "0.5121575330409136"
      ]
     },
     "execution_count": 109,
     "metadata": {},
     "output_type": "execute_result"
    }
   ],
   "source": [
    "cal_acc(predict_3ppl,real_cal)"
   ]
  },
  {
   "cell_type": "markdown",
   "metadata": {},
   "source": [
    "### multi-layer 那个"
   ]
  },
  {
   "cell_type": "code",
   "execution_count": 110,
   "metadata": {},
   "outputs": [
    {
     "data": {
      "text/plain": [
       "0.2918629941777658"
      ]
     },
     "execution_count": 110,
     "metadata": {},
     "output_type": "execute_result"
    }
   ],
   "source": [
    "cal_acc(predict_multi_layer,real_cal)"
   ]
  },
  {
   "cell_type": "code",
   "execution_count": null,
   "metadata": {
    "collapsed": true
   },
   "outputs": [],
   "source": []
  }
 ],
 "metadata": {
  "kernelspec": {
   "display_name": "Python 3",
   "language": "python",
   "name": "python3"
  },
  "language_info": {
   "codemirror_mode": {
    "name": "ipython",
    "version": 3
   },
   "file_extension": ".py",
   "mimetype": "text/x-python",
   "name": "python",
   "nbconvert_exporter": "python",
   "pygments_lexer": "ipython3",
   "version": "3.6.1"
  }
 },
 "nbformat": 4,
 "nbformat_minor": 2
}
