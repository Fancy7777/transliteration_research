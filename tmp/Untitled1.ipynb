{
 "cells": [
  {
   "cell_type": "code",
   "execution_count": 1,
   "metadata": {
    "collapsed": true
   },
   "outputs": [],
   "source": [
    "#get in the data\n",
    "chinese = []\n",
    "english_phoeneme = []\n",
    "with open('dataset.txt') as f:\n",
    "    for line in f:\n",
    "        temp = line.split('\\t')\n",
    "        chinese.append(temp[1])\n",
    "        english_phoeneme.append(temp[2])\n",
    "english_phoeneme = [phoeneme.split('\\n')[0].split() for phoeneme in english_phoeneme]\n",
    "chinese = [list(word) for word in chinese]\n",
    "for ele in chinese:\n",
    "    if ' ' in ele:\n",
    "        ele.remove(' ')\n",
    "def prepare_vocab_input():\n",
    "    vocab_inputs = []\n",
    "    with open('./english_phoneme_vocabulary_output.txt') as file:\n",
    "        for line in file:\n",
    "            vocab_inputs.append(line.split('\\n')[0])\n",
    "    vocab_inputs.remove('_PAD')\n",
    "    vocab_inputs.remove('_GO')\n",
    "    vocab_inputs.remove('_EOS')\n",
    "    vocab_inputs.remove('_UNK')\n",
    "    vocab_inputs = ['PAD', 'EOS'] + (vocab_inputs)\n",
    "    return vocab_inputs\n",
    "def prepare_vocab_predict():\n",
    "    vocab_predict = list(chinese_id_dict.keys())\n",
    "    return vocab_predict\n",
    "# prepare chinese_id_dict\n",
    "chinese_id_list = []\n",
    "with open('./chinese_vocabulary.txt') as file7:\n",
    "    for line in file7:\n",
    "        chinese_id_list.append(line.split('\\n')[0])\n",
    "chinese_id_list = ['PAD', 'EOS'] + chinese_id_list\n",
    "chinese_id_dict = {}\n",
    "for i in range(len(chinese_id_list)):\n",
    "    chinese_id_dict[chinese_id_list[i]] = i\n",
    "# finish preparation for chinese_id_dict\n",
    "vocab_inputs = prepare_vocab_input()\n",
    "vocab_predict = prepare_vocab_predict()\n",
    "english_phoneme_dict = {}\n",
    "for i in range(len(vocab_inputs)):\n",
    "    english_phoneme_dict[vocab_inputs[i]] = i\n"
   ]
  },
  {
   "cell_type": "code",
   "execution_count": 2,
   "metadata": {},
   "outputs": [
    {
     "data": {
      "text/plain": [
       "{'AA': 12,\n",
       " 'AE': 4,\n",
       " 'AH': 2,\n",
       " 'AO': 30,\n",
       " 'AW': 35,\n",
       " 'AY': 28,\n",
       " 'B': 14,\n",
       " 'CH': 32,\n",
       " 'D': 9,\n",
       " 'DH': 40,\n",
       " 'EH': 16,\n",
       " 'EOS': 1,\n",
       " 'ER': 27,\n",
       " 'EY': 18,\n",
       " 'F': 26,\n",
       " 'G': 21,\n",
       " 'HH': 24,\n",
       " 'IH': 15,\n",
       " 'IY': 7,\n",
       " 'JH': 23,\n",
       " 'K': 10,\n",
       " 'L': 6,\n",
       " 'M': 8,\n",
       " 'N': 3,\n",
       " 'NG': 34,\n",
       " 'OW': 17,\n",
       " 'OY': 38,\n",
       " 'P': 25,\n",
       " 'PAD': 0,\n",
       " 'R': 5,\n",
       " 'S': 11,\n",
       " 'SH': 33,\n",
       " 'T': 13,\n",
       " 'TH': 36,\n",
       " 'UH': 37,\n",
       " 'UW': 22,\n",
       " 'V': 20,\n",
       " 'W': 31,\n",
       " 'Y': 29,\n",
       " 'Z': 19,\n",
       " 'ZH': 39}"
      ]
     },
     "execution_count": 2,
     "metadata": {},
     "output_type": "execute_result"
    }
   ],
   "source": [
    "english_phoneme_dict"
   ]
  },
  {
   "cell_type": "code",
   "execution_count": 11,
   "metadata": {},
   "outputs": [],
   "source": [
    "used_english_phoneme = list(english_phoneme_dict.keys())\n",
    "used_english_phoneme.remove('PAD')\n",
    "used_english_phoneme.remove('EOS')"
   ]
  },
  {
   "cell_type": "code",
   "execution_count": 15,
   "metadata": {},
   "outputs": [
    {
     "name": "stdout",
     "output_type": "stream",
     "text": [
      "['AH', 'N', 'AE', 'R', 'L', 'IY', 'M', 'D', 'K', 'S', 'AA', 'T', 'B', 'IH', 'EH', 'OW', 'EY', 'Z', 'V', 'G', 'UW', 'JH', 'HH', 'P', 'F', 'ER', 'AY', 'Y', 'AO', 'W', 'CH', 'SH', 'NG', 'AW', 'TH', 'UH', 'OY', 'ZH', 'DH']\n"
     ]
    }
   ],
   "source": [
    "print((used_english_phoneme))"
   ]
  },
  {
   "cell_type": "code",
   "execution_count": null,
   "metadata": {
    "collapsed": true
   },
   "outputs": [],
   "source": [
    "vowels = ['AA','AH','AE','AH','AO','AW','AY','EH','ER','EY','IH','IY','OW','OY','UH','UW']\n",
    "stops = ['B','D','G','K','P','T']\n",
    "affricates = ['CH','JH']\n",
    "fricatives = ['DH','F','S','SH','TH','V','Z','ZH']\n",
    "liquids = ['L','R']\n",
    "nasals = ['M','N','NG']\n",
    "semivowels = ['W','Y']"
   ]
  },
  {
   "cell_type": "code",
   "execution_count": 22,
   "metadata": {},
   "outputs": [
    {
     "name": "stdout",
     "output_type": "stream",
     "text": [
      "['AE', 'B', 'D', 'EH', 'L', 'R', 'AA', 'M', 'AH', 'N', 'S', 'ER', 'AE', 'L', 'K', 'AH', 'T', 'AH', 'M']\n",
      "['阿', '卜', '杜', '勒', '拉', '赫', '曼', ' ', '西', '尔', ' ', '哈', '特', '姆']\n"
     ]
    }
   ],
   "source": [
    "print(english_phoeneme[4])\n",
    "print(chinese[4])"
   ]
  },
  {
   "cell_type": "code",
   "execution_count": null,
   "metadata": {
    "collapsed": true
   },
   "outputs": [],
   "source": [
    "chinese"
   ]
  }
 ],
 "metadata": {
  "kernelspec": {
   "display_name": "Python 3",
   "language": "python",
   "name": "python3"
  },
  "language_info": {
   "codemirror_mode": {
    "name": "ipython",
    "version": 3
   },
   "file_extension": ".py",
   "mimetype": "text/x-python",
   "name": "python",
   "nbconvert_exporter": "python",
   "pygments_lexer": "ipython3",
   "version": "3.6.1"
  }
 },
 "nbformat": 4,
 "nbformat_minor": 2
}
